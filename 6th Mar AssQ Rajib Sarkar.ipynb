{
 "cells": [
  {
   "cell_type": "code",
   "execution_count": null,
   "id": "8c4763c6",
   "metadata": {},
   "outputs": [],
   "source": [
    "Q1. What is Statistics?"
   ]
  },
  {
   "cell_type": "code",
   "execution_count": null,
   "id": "5dfa16f1",
   "metadata": {},
   "outputs": [],
   "source": [
    "The study of collecting and analysing the large amount of data is called statistics. Sometimes we infer the characteristics of \n",
    "large data besed on the  the result of analysis of small data"
   ]
  },
  {
   "cell_type": "code",
   "execution_count": null,
   "id": "fd95f556",
   "metadata": {},
   "outputs": [],
   "source": [
    "Q2. Define the different types of statistics and give an example of when each type might be used."
   ]
  },
  {
   "cell_type": "code",
   "execution_count": null,
   "id": "10315d84",
   "metadata": {},
   "outputs": [],
   "source": [
    "Majorly two types of statistics are there :\n",
    "    a) Descriptive statistics\n",
    "    b) Inferential statistics\n",
    "    \n",
    "Descritptive statistics are about the result of the characteristics of dataset...for example what \n",
    "is the average weight of the class of students or whether th weights are spread out and concentrated around the average value.\n",
    "Inferential statistics id to infer the characteristic of large population based on the analysis of sample values..Suppose you \n",
    "want to know the average weight of the population of a country, it is not so easy to approach all the population and \n",
    "collect the weights of all individual.So you need to take smaple of the population randomly and analyz to find the avearage \n",
    "weight from which you can infer about the average weight of the population."
   ]
  },
  {
   "cell_type": "code",
   "execution_count": null,
   "id": "e6b75863",
   "metadata": {},
   "outputs": [],
   "source": [
    "Q3. What are the different types of data and how do they differ from each other? Provide an example of\n",
    "each type of data"
   ]
  },
  {
   "cell_type": "code",
   "execution_count": null,
   "id": "7c4742c0",
   "metadata": {},
   "outputs": [],
   "source": [
    "Data are mainly two types one is quantitative and other is qualitative\n",
    "Quantive is the data which can be measured in numbers like weight, height, salary, price, profit etc\n",
    "Qualitative is data which is of different categories like color of hair, natianlity, language spoken etc\n",
    "\n",
    "Quantitave data can be further dived into discrete and continuous\n",
    "Discrete is where the values are distince like number of children\n",
    "continuous is where the data can be any value like height of student \n",
    "\n",
    "Qualitative is further divided into nominal and ordinal\n",
    "\n",
    "nominal is where the data has no sequence like gender ..mal or femal has same weightage and has no sequence\n",
    "ordinal is where there is a sequence like customer statisfaction rating: excellent, very good, good, bad very bad\n"
   ]
  },
  {
   "cell_type": "code",
   "execution_count": null,
   "id": "744cbdb6",
   "metadata": {},
   "outputs": [],
   "source": [
    "Q4. Categorise the following datasets with respect to quantitative and qualitative data types:\n",
    "\n",
    "(i) Grading in exam: A+, A, B+, B, C+, C, D, E\n",
    "\n",
    "(ii) Colour of mangoes: yellow, green, orange, red\n",
    "\n",
    "(iii) Height data of a class: [178.9, 179, 179.5, 176, 177.2, 178.3, 175.8,...]\n",
    "\n",
    "(iv) Number of mangoes exported by a farm: [500, 600, 478, 672, ..."
   ]
  },
  {
   "cell_type": "code",
   "execution_count": null,
   "id": "84cc2008",
   "metadata": {},
   "outputs": [],
   "source": [
    "i. Qualitative\n",
    "ii. qualitative\n",
    "iii. quantitative\n",
    "1v. quantitative\n"
   ]
  },
  {
   "cell_type": "code",
   "execution_count": null,
   "id": "c122766a",
   "metadata": {},
   "outputs": [],
   "source": [
    "Q5. Explain the concept of levels of measurement and give an example of a variable for each level."
   ]
  },
  {
   "cell_type": "markdown",
   "id": "3175c5e7",
   "metadata": {},
   "source": [
    "Here are the different types of level of measurement:\n",
    "    1. Nominal scale:  This is categrorical or qualitative data which has no sequence or rank like gender, color etc.\n",
    "    \n",
    "    2. Ordinal scale data: this is categorical or qualitative data but where rank or sequence is there like rating, \n",
    "       qualification..like PHD is more qualified than post graduation , post graduationmeans more qualification than graduate  but in this sequence there is no way to measure the difference between values.\n",
    "    \n",
    "    3. Interval scale data: there are sequence and interval of data can be measured but ratio can not be measured..like temparatures the values can be 30, 60,90 degree etc. and we know differences between the temparatures but we can not say the 60 degree temparature feels double of 30 degree temparature. so ration can not be expressed through interval. This category also does not have zero starting point\n",
    "    \n",
    "    4. Ratio scale data: here te sequence or rank matters in the dataset, difference and ratio are measurable.It also has zero starting point. here example can be examination marks..here marks 60 is double of marks 30..and the marks starts at 0. "
   ]
  },
  {
   "cell_type": "code",
   "execution_count": null,
   "id": "f46a84df",
   "metadata": {},
   "outputs": [],
   "source": [
    "Q6. Why is it important to understand the level of measurement when analyzing data? Provide an\n",
    "example to illustrate your answer."
   ]
  },
  {
   "cell_type": "code",
   "execution_count": null,
   "id": "3f957d0e",
   "metadata": {},
   "outputs": [],
   "source": [
    "There are different kind of amalysis present based on types od data...if the data is height of the students , marital status \n",
    "of the employees, exam marks of the class, you first need to understand what kind of data it is and then you can apply \n",
    "the right method for analysis. "
   ]
  },
  {
   "cell_type": "code",
   "execution_count": null,
   "id": "7bc6910f",
   "metadata": {},
   "outputs": [],
   "source": [
    "Q7. How nominal data type is different from ordinal data type."
   ]
  },
  {
   "cell_type": "code",
   "execution_count": null,
   "id": "79885e98",
   "metadata": {},
   "outputs": [],
   "source": [
    "Nominal and ordinal both are categoriacal or qualitative type of data but the differences are \n",
    "nominal data has no sequence or rank but ordinal data has sequence or rank\n",
    "nominal : gender, color\n",
    "ordinal : rating, credit rating, qualification"
   ]
  },
  {
   "cell_type": "code",
   "execution_count": null,
   "id": "bc33550e",
   "metadata": {},
   "outputs": [],
   "source": [
    "Q8. Which type of plot can be used to display data in terms of range?"
   ]
  },
  {
   "cell_type": "code",
   "execution_count": null,
   "id": "cf5c4d66",
   "metadata": {},
   "outputs": [],
   "source": [
    "whisker plot"
   ]
  },
  {
   "cell_type": "code",
   "execution_count": null,
   "id": "330b7b31",
   "metadata": {},
   "outputs": [],
   "source": [
    "Q9. Describe the difference between descriptive and inferential statistics. Give an example of each\n",
    "type of statistics and explain how they are used."
   ]
  },
  {
   "cell_type": "code",
   "execution_count": null,
   "id": "0bc8359b",
   "metadata": {},
   "outputs": [],
   "source": [
    "Descriptive statistics helps to describe the charactistics and features of the data, where inferential statistics \n",
    "helps to infer about the population data based on the sample data taken from population.\n",
    "\n",
    "average height of the students of the class is an example of descriptive statistics\n",
    "average height of the population of the country based on sample of data from the population is inferential statistics"
   ]
  },
  {
   "cell_type": "code",
   "execution_count": null,
   "id": "48e23b31",
   "metadata": {},
   "outputs": [],
   "source": [
    "Q10. What are some common measures of central tendency and variability used in statistics? Explain\n",
    "how each measure can be used to describe a dataset."
   ]
  },
  {
   "cell_type": "code",
   "execution_count": null,
   "id": "922f816d",
   "metadata": {},
   "outputs": [],
   "source": [
    "central tendency:\n",
    "    1. mean - average of the data points in the dataset..this describes the central tendency of the dataset..where the weights of the data are concentrated\n",
    "    2. median - middle point of the data points of the dataset - this also describes the central tendency of the dataset..gives the middle point of the dataset\n",
    "    3. mode - most frequent data point of the dataset .this also gives the central tendency of the dataset..most frequent data point of the datasert\n",
    "variablilty:\n",
    "    1. range - difference between the hidhest and lowest datapoint of the dataset --this shows the variability or spread of dataset..how much it is spread\n",
    "    2. variance - measure of deviation of data points from the average of the dataset ..this shows the variability again but with respect to the mean of the dataset\n",
    "    3. standard deviation- measure of deviation of data points from the average of the dataset..same as variance but the value is square root of the variance"
   ]
  }
 ],
 "metadata": {
  "kernelspec": {
   "display_name": "Python 3 (ipykernel)",
   "language": "python",
   "name": "python3"
  },
  "language_info": {
   "codemirror_mode": {
    "name": "ipython",
    "version": 3
   },
   "file_extension": ".py",
   "mimetype": "text/x-python",
   "name": "python",
   "nbconvert_exporter": "python",
   "pygments_lexer": "ipython3",
   "version": "3.9.13"
  }
 },
 "nbformat": 4,
 "nbformat_minor": 5
}
