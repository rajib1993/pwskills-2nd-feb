{
 "cells": [
  {
   "cell_type": "code",
   "execution_count": null,
   "id": "6483e206",
   "metadata": {},
   "outputs": [],
   "source": [
    "Q1. Explain the difference between simple linear regression and multiple linear regression. Provide an\n",
    "example of each."
   ]
  },
  {
   "cell_type": "code",
   "execution_count": null,
   "id": "4edfa7fe",
   "metadata": {},
   "outputs": [],
   "source": [
    "Simple linear regression and Multiple linear regression both are supervised machine learning. Simple linear regression has \n",
    "one independent feature and one dependent feature or output feature.Like the relationship between height and weight. You have \n",
    "a list of students who has recorded their heights and weights. Here you want to predict weight based on the height, so weight \n",
    "is the dependent variable and height is the independent variable. This is an example of simple linear regression.\n",
    "\n",
    "Multiple linear regression is where there more more than one independent features and on dependent features. Suppose you have a \n",
    "dataset of house prices of certain area along with the house features like size, no of bedrooms, no of balcony, proximity to \n",
    "schools etc. So once the model is built you can predict the house price based new data of the indepent features. This is an \n",
    "example of multiple linear regression."
   ]
  },
  {
   "cell_type": "code",
   "execution_count": null,
   "id": "7fd94cce",
   "metadata": {},
   "outputs": [],
   "source": [
    "Q2. Discuss the assumptions of linear regression. How can you check whether these assumptions hold in\n",
    "a given dataset?"
   ]
  },
  {
   "cell_type": "code",
   "execution_count": null,
   "id": "516384b1",
   "metadata": {},
   "outputs": [],
   "source": [
    "Here are the assumptions:\n",
    "    1. If the data folow gaussian distribution then models are trained well, if not we can convert the data into gaussian \n",
    "    distribution.\n",
    "    2. If the data is too much linear, it will give good answer.\n",
    "    3. If multiple features are correlate dthen we can drop some features out of correlated ones.\n",
    "    4. Through standardization convergence happens quickly."
   ]
  },
  {
   "cell_type": "code",
   "execution_count": null,
   "id": "a4e3eb9a",
   "metadata": {},
   "outputs": [],
   "source": [
    "Q3. How do you interpret the slope and intercept in a linear regression model? Provide an example using\n",
    "a real-world scenario."
   ]
  },
  {
   "cell_type": "code",
   "execution_count": null,
   "id": "2288c60d",
   "metadata": {},
   "outputs": [],
   "source": [
    "intercept of linear regression is where the model intercepts the y axis.For a simple linear regression where there are two \n",
    "variables x and y , the equation of the model is y = mx+c. when the value of x is 0, then the value of y is c. c is called \n",
    "intercept.\n",
    "slope of linear regression is where the value of y increases for every unit increase of x. if we make the derivative of y \n",
    "against x , the value is m. m is the slope of the model.\n",
    "Suppose salary of employee is dependent on years of experience. but for a fresher candidate where experience is 0,  the salary \n",
    "is not zero, he will get some salary, that is called intercept. For every unit increase of experience the increase of the \n",
    "salary is called slope.\n"
   ]
  },
  {
   "cell_type": "code",
   "execution_count": null,
   "id": "8de5ae03",
   "metadata": {},
   "outputs": [],
   "source": [
    "Q4. Explain the concept of gradient descent. How is it used in machine learning?"
   ]
  },
  {
   "cell_type": "code",
   "execution_count": null,
   "id": "1d7d11f9",
   "metadata": {},
   "outputs": [],
   "source": [
    "when we drawn the line for best  fit in machine learning it is assumed that this line has the minimum distance from the \n",
    "data points, so based on different values of slope ( & intercept) model line will be at different place. If you consider \n",
    "an initial value of m of the model y=mx+c, this may not be the best fit line. So your target for modelling is to achieve the \n",
    "best fit line ( lowest sum of distances from the actiual data points) , so you need to gradually change the value of m to \n",
    "reach the point where the error or difference will be minimum.So the process of reaching the minimum point is called \n",
    "Gradient descent."
   ]
  },
  {
   "cell_type": "code",
   "execution_count": null,
   "id": "8d3b7851",
   "metadata": {},
   "outputs": [],
   "source": [
    "Q5. Describe the multiple linear regression model. How does it differ from simple linear regression?"
   ]
  },
  {
   "cell_type": "code",
   "execution_count": null,
   "id": "bf9d1b65",
   "metadata": {},
   "outputs": [],
   "source": [
    "Multiple linear regression is where there more more than one independent features and on dependent features. Suppose you have a \n",
    "dataset of house prices of certain area along with the house features like size, no of bedrooms, no of balcony, proximity to \n",
    "schools etc. So once the model is built you can predict the house price based new data of the indepent features. This is an \n",
    "example of multiple linear regression.\n",
    "Multiple linear regression model has multiple independent features where simple linear regression model has one independent \n",
    "feature. both of them have one dependent feature."
   ]
  },
  {
   "cell_type": "code",
   "execution_count": null,
   "id": "5c29fc40",
   "metadata": {},
   "outputs": [],
   "source": [
    "Q6. Explain the concept of multicollinearity in multiple linear regression. How can you detect and address this issue?"
   ]
  },
  {
   "cell_type": "code",
   "execution_count": null,
   "id": "90d87d6c",
   "metadata": {},
   "outputs": [],
   "source": [
    "as we know the moltiple linear regression has multiple independent features and there might be chances that the many \n",
    "independent features are correlated among them. in that case building the model with all the features will be wastage \n",
    "of time and resources. The the correlation amongt the multiple linear regression is called multicollinearity. \n",
    "We can detect the multicollinearity during model creation with parameters like p-value, standard error etc.\n",
    "if the multicoliearity is found we can drop the patrameters through forward or backward selection."
   ]
  },
  {
   "cell_type": "code",
   "execution_count": null,
   "id": "d6ae447d",
   "metadata": {},
   "outputs": [],
   "source": [
    "Q7. Describe the polynomial regression model. How is it different from linear regression?"
   ]
  },
  {
   "cell_type": "code",
   "execution_count": null,
   "id": "08dfd8e8",
   "metadata": {},
   "outputs": [],
   "source": [
    "Polynomial regreassion is a regression where the parameters are related but not related in liear fashion. There are curves \n",
    "if we draw the relations. Mathematically the relationships will be with multiple powers of independent features, whereas \n",
    "simple linear regression is simple quadratic equation with maximum power of 1. \n",
    "y = mx + c [ x is to the power of 1 ] - simple linear regression\n",
    "y = m3x3( x to the power of cube) + m2x2( x to the power of 2) + mx + c - this is for plolynomial regression"
   ]
  },
  {
   "cell_type": "code",
   "execution_count": null,
   "id": "d34fc89a",
   "metadata": {},
   "outputs": [],
   "source": [
    "Q8. What are the advantages and disadvantages of polynomial regression compared to linear\n",
    "regression? In what situations would you prefer to use polynomial regression?"
   ]
  },
  {
   "cell_type": "code",
   "execution_count": null,
   "id": "a345253f",
   "metadata": {},
   "outputs": [],
   "source": [
    "Advantage is : it works well for any size of dataset, works very well with non linear datasets\n",
    "disadvantage is: we need to find right degree of polynomial for the model, or else it will lead to overfitting, right degree \n",
    "    of polynomial ensures bias-variance trade-off."
   ]
  }
 ],
 "metadata": {
  "kernelspec": {
   "display_name": "Python 3 (ipykernel)",
   "language": "python",
   "name": "python3"
  },
  "language_info": {
   "codemirror_mode": {
    "name": "ipython",
    "version": 3
   },
   "file_extension": ".py",
   "mimetype": "text/x-python",
   "name": "python",
   "nbconvert_exporter": "python",
   "pygments_lexer": "ipython3",
   "version": "3.9.13"
  }
 },
 "nbformat": 4,
 "nbformat_minor": 5
}
