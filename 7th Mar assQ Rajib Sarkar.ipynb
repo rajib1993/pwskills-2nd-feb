{
 "cells": [
  {
   "cell_type": "code",
   "execution_count": null,
   "id": "fc32af2b",
   "metadata": {},
   "outputs": [],
   "source": [
    "Q1. What are the three measures of central tendency?"
   ]
  },
  {
   "cell_type": "code",
   "execution_count": null,
   "id": "398df705",
   "metadata": {},
   "outputs": [],
   "source": [
    "mean, median, mode"
   ]
  },
  {
   "cell_type": "code",
   "execution_count": null,
   "id": "a19d894b",
   "metadata": {},
   "outputs": [],
   "source": [
    "Q2. What is the difference between the mean, median, and mode? How are they used to measure the\n",
    "central tendency of a dataset"
   ]
  },
  {
   "cell_type": "code",
   "execution_count": null,
   "id": "949aad00",
   "metadata": {},
   "outputs": [],
   "source": [
    "mean calculates the average of the values of the dataset. mean = (sum of the dataset)/ (count of the data points)\n",
    "\n",
    "meadian is the midpoint of the sorted dataset. First we sort the data either ascending or descending. then we find \n",
    "the mid point value of the data set. If the count pf data point is even then we take the average of the mid data points.\n",
    "Suppose the no. of datapoints id 11 then first we sort the values then 6th data point will be median\n",
    "Suppose the no. of data points is 10 then the average of 5th and 6th data point wil be median\n",
    "\n",
    "mode is the data point which is most frequent occuring in the dataset. suppose the dataset is { 1,2,4,6,8,9,12,13,15,12, 18, 12}\n",
    "then 12 is the mode as it came thrice in the dataset\n"
   ]
  },
  {
   "cell_type": "code",
   "execution_count": null,
   "id": "bcd0188a",
   "metadata": {},
   "outputs": [],
   "source": [
    "Q3. Measure the three measures of central tendency for the given height data:\n",
    "\n",
    "[178,177,176,177,178.2,178,175,179,180,175,178.9,176.2,177,172.5,178,176.5]\n"
   ]
  },
  {
   "cell_type": "code",
   "execution_count": null,
   "id": "c7e9782a",
   "metadata": {},
   "outputs": [],
   "source": [
    "mean is = 177.02\n",
    "median = 177\n",
    "mode = 178"
   ]
  },
  {
   "cell_type": "code",
   "execution_count": null,
   "id": "774ee5ab",
   "metadata": {},
   "outputs": [],
   "source": [
    "Q4. Find the standard deviation for the given data:\n",
    "\n",
    "[178,177,176,177,178.2,178,175,179,180,175,178.9,176.2,177,172.5,178,176.5]"
   ]
  },
  {
   "cell_type": "code",
   "execution_count": null,
   "id": "2c387a01",
   "metadata": {},
   "outputs": [],
   "source": [
    "standard deviation = "
   ]
  },
  {
   "cell_type": "code",
   "execution_count": 1,
   "id": "ef8b2c59",
   "metadata": {},
   "outputs": [
    {
     "name": "stdout",
     "output_type": "stream",
     "text": [
      "1.7885814036548633\n"
     ]
    }
   ],
   "source": [
    "import numpy as np\n",
    "dataset = [178,177,176,177,178.2,178,175,179,180,175,178.9,176.2,177,172.5,178,176.5]\n",
    "print(np.std(dataset))"
   ]
  },
  {
   "cell_type": "code",
   "execution_count": null,
   "id": "d42e3090",
   "metadata": {},
   "outputs": [],
   "source": [
    "Q5. How are measures of dispersion such as range, variance, and standard deviation used to describe\n",
    "the spread of a dataset? Provide an example.\n"
   ]
  },
  {
   "cell_type": "code",
   "execution_count": null,
   "id": "d44e13e1",
   "metadata": {},
   "outputs": [],
   "source": [
    "Range is the difference between the lowest and highest value of a dataset, hence it gives how much the data is spread\n",
    "variance is the measurewhich gives how much the data is spread with respect to the mean of the data, whether data is \n",
    "concentrated around mean or it is spread over the away from the mean\n",
    "standard deviation is the same as variance conceptwise but valuewise it is the squareroot of the variance\n",
    "\n",
    "suppose the dataset is the above dataset\n",
    "\n",
    "minimum value in the dataset is 175 and maximum value is 180 , so the range is (180-175) = 5\n",
    "variance of the data = 3.199 \n",
    "which is sum of the squares of (xi-mean) divideb by 16,  where xi represents the each datapoint and 16 is the count of datapoint\n",
    "\n",
    "standard deviation is the square root of variance which is 1.788"
   ]
  },
  {
   "cell_type": "code",
   "execution_count": 4,
   "id": "0524a599",
   "metadata": {},
   "outputs": [
    {
     "name": "stdout",
     "output_type": "stream",
     "text": [
      "3.199023437500001\n"
     ]
    }
   ],
   "source": [
    "variance = np.var(dataset)\n",
    "print(variance)"
   ]
  },
  {
   "cell_type": "code",
   "execution_count": null,
   "id": "c9eacbbe",
   "metadata": {},
   "outputs": [],
   "source": [
    "Q6. What is a Venn diagram?"
   ]
  },
  {
   "cell_type": "code",
   "execution_count": null,
   "id": "f29f552e",
   "metadata": {},
   "outputs": [],
   "source": [
    "Venn diagram is a pictorial representation of mathematical or logical values in circle or rectangle manner"
   ]
  },
  {
   "cell_type": "code",
   "execution_count": null,
   "id": "7e415b08",
   "metadata": {},
   "outputs": [],
   "source": [
    "Q7. For the two given sets A = (2,3,4,5,6,7) & B = (0,2,6,8,10). Find:\n",
    "\n",
    "(i) A B\n",
    "\n",
    "(ii) A B"
   ]
  },
  {
   "cell_type": "code",
   "execution_count": null,
   "id": "d32fce22",
   "metadata": {},
   "outputs": [],
   "source": [
    "A U B = (0, 2,3,4,5,6,7,8,10)\n",
    "A intersectio B = (2,6)"
   ]
  },
  {
   "cell_type": "code",
   "execution_count": null,
   "id": "d705d11f",
   "metadata": {},
   "outputs": [],
   "source": [
    "Q8. What do you understand about skewness in data?"
   ]
  },
  {
   "cell_type": "code",
   "execution_count": null,
   "id": "63b8eab1",
   "metadata": {},
   "outputs": [],
   "source": [
    "skewness is the representation of the asymmetric distribution of data, when the left side and the right side \n",
    "of the data are not symmetrical then it is termed as skewed. It is called positively skewed if the spread of the right \n",
    "side of the data is much more than left side of the data.it is called negatively skewed if it is opposite.\n"
   ]
  },
  {
   "cell_type": "code",
   "execution_count": null,
   "id": "a77b5249",
   "metadata": {},
   "outputs": [],
   "source": [
    "Q9. If a data is right skewed then what will be the position of median with respect to mean?"
   ]
  },
  {
   "cell_type": "code",
   "execution_count": null,
   "id": "88620fde",
   "metadata": {},
   "outputs": [],
   "source": [
    "if the data is right skewed then mean is higher than median"
   ]
  },
  {
   "cell_type": "code",
   "execution_count": null,
   "id": "b6050cd4",
   "metadata": {},
   "outputs": [],
   "source": [
    "Q10. Explain the difference between covariance and correlation. How are these measures used in\n",
    "statistical analysis?"
   ]
  },
  {
   "cell_type": "markdown",
   "id": "4cf1e62e",
   "metadata": {},
   "source": [
    "both covariance and correlation defines the relationship of 2 continuous variables. If one variable increases other variable \n",
    "increases or one variable decreases other variable decreases the  it is called positive correlation or covariance. \n",
    "If one variable increases other variable decreases or one variable decreases and other variable increases then \n",
    "it is call negative correlation or covariance.\n",
    "\n",
    "the problem of covariance is it is not scaled properly ..if the covaiances are 100 or 1000 we do not know how much is the \n",
    "difference , that's why correlation comes into picture..value of the correlation always between -1 and +1..so we understand \n",
    "from the value how strongly or weakly two variables are correlated and we can compare"
   ]
  },
  {
   "cell_type": "code",
   "execution_count": null,
   "id": "4f7b4844",
   "metadata": {},
   "outputs": [],
   "source": [
    "Q11. What is the formula for calculating the sample mean? Provide an example calculation for a dataset."
   ]
  },
  {
   "cell_type": "code",
   "execution_count": null,
   "id": "03b41cac",
   "metadata": {},
   "outputs": [],
   "source": [
    "sample mean is the ratio of the sum of sample values and count of sample values, suppose we take sample of weights from 10 \n",
    "students of the classroom and sample dataset is as ( 69, 55, 59, 60, 67, 58, 59, 53, 61,56)\n",
    "the sample mean will be = ( 69+55+59+60+67+58+59+53+61+56)/10 = 59.7"
   ]
  },
  {
   "cell_type": "code",
   "execution_count": 5,
   "id": "93e15365",
   "metadata": {},
   "outputs": [
    {
     "name": "stdout",
     "output_type": "stream",
     "text": [
      "59.7\n"
     ]
    }
   ],
   "source": [
    "import numpy as np\n",
    "dataset = [69, 55, 59, 60, 67, 58, 59, 53, 61,56]\n",
    "print(np.mean(dataset))"
   ]
  },
  {
   "cell_type": "code",
   "execution_count": null,
   "id": "1ff3b86c",
   "metadata": {},
   "outputs": [],
   "source": [
    "Q12. For a normal distribution data what is the relationship between its measure of central tendency?"
   ]
  },
  {
   "cell_type": "code",
   "execution_count": null,
   "id": "41c7d029",
   "metadata": {},
   "outputs": [],
   "source": [
    "For a normal distribution the relation will be\n",
    "mean = median = mode"
   ]
  },
  {
   "cell_type": "code",
   "execution_count": null,
   "id": "6d587a03",
   "metadata": {},
   "outputs": [],
   "source": [
    "Q13. How is covariance different from correlation ?"
   ]
  },
  {
   "cell_type": "code",
   "execution_count": null,
   "id": "b1e0eb31",
   "metadata": {},
   "outputs": [],
   "source": [
    "Covariance denotes the measure and direction of the dependencies of two variables where correlation denotes the strength and \n",
    "direction of the deendencies. In covariance we do not the difference of strength of dependencies however in correlation we can \n",
    "measure the strength as the value ranges from -1 to +1"
   ]
  },
  {
   "cell_type": "code",
   "execution_count": null,
   "id": "cb813af1",
   "metadata": {},
   "outputs": [],
   "source": [
    "Q14. How do outliers affect measures of central tendency and dispersion? Provide an example."
   ]
  },
  {
   "cell_type": "code",
   "execution_count": null,
   "id": "434013cf",
   "metadata": {},
   "outputs": [],
   "source": [
    "for mean : outliers have a great impact as it drags the value towards the side of outlier..suppose the \n",
    "    average salary of company employees are INR 6 lakhs per year with considering salary of the ceo. \n",
    "    CEO drwas 25 lakhs per year. Now if you consider the ceo salary mean value of employee salary will be much much higher.\n",
    "    so mean will be impacted a lot by outlier\n",
    "for median: there will be no impact as we only find the mid point value of the dataset. in the above example whether you \n",
    "    consider ceo or not the median value will not change much\n",
    "for mode: there will not be much impact on mode also, as you see on the above example the mode will be from the employees \n",
    "    not the ceo"
   ]
  }
 ],
 "metadata": {
  "kernelspec": {
   "display_name": "Python 3 (ipykernel)",
   "language": "python",
   "name": "python3"
  },
  "language_info": {
   "codemirror_mode": {
    "name": "ipython",
    "version": 3
   },
   "file_extension": ".py",
   "mimetype": "text/x-python",
   "name": "python",
   "nbconvert_exporter": "python",
   "pygments_lexer": "ipython3",
   "version": "3.9.13"
  }
 },
 "nbformat": 4,
 "nbformat_minor": 5
}
