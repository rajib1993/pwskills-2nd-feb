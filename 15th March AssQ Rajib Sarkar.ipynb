{
 "cells": [
  {
   "cell_type": "code",
   "execution_count": null,
   "id": "31cabe43",
   "metadata": {},
   "outputs": [],
   "source": [
    "Q1: Explain the following with an example:F\n",
    "1) Artificial IntelligencJ\n",
    "2) Machine Learnin,\n",
    "3) Deep Learning"
   ]
  },
  {
   "cell_type": "code",
   "execution_count": null,
   "id": "63b37dff",
   "metadata": {},
   "outputs": [],
   "source": [
    "1. Artificial intelligence: AI is the area which enables the machines to think by undersatnding, learning from data , \n",
    "    finding patterns and making inferences which is difficult to be done by humans.\n",
    "2. Machine learning: ML is the subset of AI is used to draw insights through exporing and analyzing the data using techniques \n",
    "    like supervised, unsupervised and reinforcement modelling\n",
    "3. Deep learning : DL is the subset of ML where machines learn by mimicking human brain. It uses multi neural network \n",
    "    architecture like CNN, RNN etc."
   ]
  },
  {
   "cell_type": "code",
   "execution_count": null,
   "id": "473c1307",
   "metadata": {},
   "outputs": [],
   "source": [
    "Q2: What is supervised learning? List some examples of supervised learning"
   ]
  },
  {
   "cell_type": "code",
   "execution_count": null,
   "id": "dbfe9882",
   "metadata": {},
   "outputs": [],
   "source": [
    "Supervised leasrning is the type of machine learning where model learns from a set of labeled data and when the model \n",
    "is applied on test data it gives the predicted result of the labels.The model learns the data based on the labels ..for \n",
    "these kind of data elements the output will be this. so that when new dataset will come the model will predict the label.\n",
    "\n",
    "Examples: House price prediction based on input features of houses ( area, no. of rooms, floor etc.), churning of customer \n",
    "for a telecom company whether a customer will be churned in coming months based his usage , location etc."
   ]
  },
  {
   "cell_type": "code",
   "execution_count": null,
   "id": "3507059b",
   "metadata": {},
   "outputs": [],
   "source": [
    "Q3: What is unsupervised learning? List some examples of unsupervised learning"
   ]
  },
  {
   "cell_type": "code",
   "execution_count": null,
   "id": "712b7be6",
   "metadata": {},
   "outputs": [],
   "source": [
    "Unsupervised learning is where theere is no label in the data rather the model will seggregate the data based on features \n",
    "of the data. \n",
    "segmentation of customers for a retail store based on demography, purchase history etc."
   ]
  },
  {
   "cell_type": "code",
   "execution_count": null,
   "id": "6cc9f162",
   "metadata": {},
   "outputs": [],
   "source": [
    "Q4: What is the difference between AI, ML, DL, and DS?"
   ]
  },
  {
   "cell_type": "code",
   "execution_count": null,
   "id": "e5f48ce9",
   "metadata": {},
   "outputs": [],
   "source": [
    "DS is the analysis of data to draw insights using different tools like visualization, statistics , probability\n",
    "ML is the subset of AI is used to draw insights through exporing and analyzing the data using techniques like supervised, \n",
    "unsupervised and reinforcement modelling\n",
    "AI is the area which enables the machines to think by undersatnding, learning from data , finding patterns and making \n",
    "inferences which is difficult to be done by humans.\n",
    "DL is the subset of ML where machines learn by mimicking human brain. It uses multi neural network architecture like CNN, \n",
    "RNN etc."
   ]
  },
  {
   "cell_type": "code",
   "execution_count": null,
   "id": "c64217ae",
   "metadata": {},
   "outputs": [],
   "source": [
    "Q5: What are the main differences between supervised, unsupervised, and semi-supervised learning?"
   ]
  },
  {
   "cell_type": "code",
   "execution_count": null,
   "id": "55c79406",
   "metadata": {},
   "outputs": [],
   "source": [
    "supervised learning is where there will be some learning for the model based on certain output/label. The model will learn \n",
    "and then predict based on the learning. Unsupervised has no as such output/label. It only seggregates the data based on \n",
    "features of the data.semi supervised is the combination of unsupervised and supervised learning. first it will seggregate \n",
    "the data then it will work on learning the data based on output."
   ]
  },
  {
   "cell_type": "code",
   "execution_count": null,
   "id": "cb4da157",
   "metadata": {},
   "outputs": [],
   "source": [
    "Q6: What is train, test and validation split? Explain the importance of each term"
   ]
  },
  {
   "cell_type": "code",
   "execution_count": null,
   "id": "1bd22ed0",
   "metadata": {},
   "outputs": [],
   "source": [
    "train data is thw set of data used for learning fby the model to fit the parameters in the model.\n",
    "Test data is used to provide unbiased evaluation of a final model which was fitted in the training dataset.\n",
    "validation is a set of data to provide unbiased evauation of a model fitted on the training dataset while tuning hyper \n",
    "parameters."
   ]
  },
  {
   "cell_type": "code",
   "execution_count": null,
   "id": "129b7212",
   "metadata": {},
   "outputs": [],
   "source": [
    "Q7: How can unsupervised learning be used in anomaly detection?"
   ]
  },
  {
   "cell_type": "code",
   "execution_count": null,
   "id": "f8722d64",
   "metadata": {},
   "outputs": [],
   "source": [
    "since unsupervisd learning is used for unlabeled data and in anomaly detection we detect previously unseen rare \n",
    "objects without prior knowledge about those objects, unsupervised learning is used for anomaly detection."
   ]
  },
  {
   "cell_type": "code",
   "execution_count": null,
   "id": "6c6e5aad",
   "metadata": {},
   "outputs": [],
   "source": [
    "Q8: List down some commonly used supervised learning algorithms and unsupervised learning\n",
    "algorithms"
   ]
  },
  {
   "cell_type": "code",
   "execution_count": null,
   "id": "3897901c",
   "metadata": {},
   "outputs": [],
   "source": [
    "supervised learning algorithm: linear regression, logistic regression, decision tree, naive bayes\n",
    "unsupervised learning algorithm: K-mean clustering, DBSCAN "
   ]
  }
 ],
 "metadata": {
  "kernelspec": {
   "display_name": "Python 3 (ipykernel)",
   "language": "python",
   "name": "python3"
  },
  "language_info": {
   "codemirror_mode": {
    "name": "ipython",
    "version": 3
   },
   "file_extension": ".py",
   "mimetype": "text/x-python",
   "name": "python",
   "nbconvert_exporter": "python",
   "pygments_lexer": "ipython3",
   "version": "3.9.13"
  }
 },
 "nbformat": 4,
 "nbformat_minor": 5
}
