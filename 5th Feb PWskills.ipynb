{
 "cells": [
  {
   "cell_type": "markdown",
   "id": "0d0edd5c",
   "metadata": {},
   "source": [
    "Q1. Explain Class and Object with respect to Object-Oriented Programming. Give a suitable example."
   ]
  },
  {
   "cell_type": "markdown",
   "id": "17b25662",
   "metadata": {},
   "source": [
    "in OOPS concept class is a blueprint or classification of real world object. Like if we consider the CAR is a class \n",
    "which has properties like color, wheels, brakes and lot of other things. Then a particular model Maruti WagonR may be a real \n",
    "world entity which can be termed as object. Class defines the characteristics and properties while object is a \n",
    "representation of a class in real world.\n",
    "\n",
    "Advantages are:\n",
    "a)\tCode will be clean\n",
    "b)\tCodes are easily maintainable\n",
    "c)\tCodes are reusable\n"
   ]
  },
  {
   "cell_type": "markdown",
   "id": "1d50a2e3",
   "metadata": {},
   "source": [
    "Q2. Name the four pillars of OOPs."
   ]
  },
  {
   "cell_type": "markdown",
   "id": "15765c21",
   "metadata": {},
   "source": [
    "The main four pillaers of OOPS are:\n",
    "    1. Encapsulation\n",
    "    2. Inheritance\n",
    "    3. Polymorphism\n",
    "    4. Abstraction"
   ]
  },
  {
   "cell_type": "markdown",
   "id": "4d6fecae",
   "metadata": {},
   "source": [
    "Q3. Explain why the __init__() function is used. Give a suitable example."
   ]
  },
  {
   "cell_type": "markdown",
   "id": "729ae31d",
   "metadata": {},
   "source": [
    "Constructor is a method which is used to initialize the object each time it is created. __init__ method is used \n",
    "as a constructor.\n",
    "      class pythonlearning():\n",
    "\t\tdef __init__(self, phone_number, email_id, student_id):\n",
    "\t\t\tself.phone_number = phone_number\n",
    "\t\t\tself.email_id = email_id\n",
    "\t\t\tself.student_id = student_id\n",
    "\t\tdef return_details(self):\n",
    "\t\t\treturn self.phone_number, self.email_id,self.student_id\t\n",
    "\n",
    "In this example __init__() method is defined to initialize the variables phone number, email id, student id \n",
    "when an object for the class pythonlearning is created.\n",
    "\n",
    "rajib = pythonlearning(9999988888, \"rohan@gmail.com\", 12345)\n",
    "\n",
    "Here rajib object is created with the given arguments. Now if we call the method return_details() with the object it return the values. \n",
    "\n",
    "rajib.return_details()\n",
    "(9999988888, 'rohan@gmail.com', 12345)\n"
   ]
  },
  {
   "cell_type": "markdown",
   "id": "3b8d55bf",
   "metadata": {},
   "source": [
    "Q4. Why self is used in OOPs?"
   ]
  },
  {
   "cell_type": "markdown",
   "id": "07552363",
   "metadata": {},
   "source": [
    "self is conventioally used in python to represent the class itself, you can use any other word instead of self. \n",
    "Here is an example, where we have used ppp word , the same will happen if self is used. but by convention self is used.\n",
    "\n",
    "class test:\n",
    "    def __init__(ppp,a,b):\n",
    "        ppp.a = a\n",
    "        ppp.b = b\n",
    "t = test(4,5)\n",
    "t.a\n",
    "4"
   ]
  },
  {
   "cell_type": "markdown",
   "id": "dd6ffad3",
   "metadata": {},
   "source": [
    "Q5. What is inheritance? Give an example for each type of inheritance."
   ]
  },
  {
   "cell_type": "markdown",
   "id": "6b5a991e",
   "metadata": {},
   "source": [
    "The concept of inheritance is where a class can inherit the properties of another class.here is an example\n",
    "class parent:\n",
    "    def test_parent(self):\n",
    "        print(\"This is my parent class\")\n",
    "class child(parent):\n",
    "    pass\n",
    "\n",
    "obj_child = child()\n",
    "\n",
    "obj_child.test_parent()\n",
    "This is my parent class\n",
    "\n",
    "Here we can see the method test_parent() belongs to class parent not child , but while defining child class we have inherited\n",
    "class parent that's why the object obj_child can use the method test_parent()"
   ]
  }
 ],
 "metadata": {
  "kernelspec": {
   "display_name": "Python 3 (ipykernel)",
   "language": "python",
   "name": "python3"
  },
  "language_info": {
   "codemirror_mode": {
    "name": "ipython",
    "version": 3
   },
   "file_extension": ".py",
   "mimetype": "text/x-python",
   "name": "python",
   "nbconvert_exporter": "python",
   "pygments_lexer": "ipython3",
   "version": "3.9.13"
  }
 },
 "nbformat": 4,
 "nbformat_minor": 5
}
