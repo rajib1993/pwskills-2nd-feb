{
 "cells": [
  {
   "cell_type": "code",
   "execution_count": null,
   "id": "fbe42b69",
   "metadata": {},
   "outputs": [],
   "source": [
    "Q1: Define overfitting and underfitting in machine learning. What are the consequences of each, and how\n",
    "can they be mitigated?"
   ]
  },
  {
   "cell_type": "code",
   "execution_count": null,
   "id": "a7934f0b",
   "metadata": {},
   "outputs": [],
   "source": [
    "Overfitting: If the accuracy of  modeling is high for training data, the accuracy is low for test data when applied \n",
    "the model on test data it is called overfotting. An overfit model gives wrong prediiction and does not perform well with \n",
    "all types of new data.\n",
    "Underfitting: If the accuracy of data modelling is low in both training and test data then it is called underfitting. \n",
    "In underfitting it gives error in training and test data so unable to give right prediction and does not perform for new data\n",
    "    \n",
    "We can mitigate overfitting through cross validation , hyper parameter tuning etc.\n",
    "We can mitiate underfitting through traing more data, reducing noise etc.\n"
   ]
  },
  {
   "cell_type": "code",
   "execution_count": null,
   "id": "4947e984",
   "metadata": {},
   "outputs": [],
   "source": [
    "Q2: How can we reduce overfitting? Explain in brief."
   ]
  },
  {
   "cell_type": "code",
   "execution_count": null,
   "id": "e56b1801",
   "metadata": {},
   "outputs": [],
   "source": [
    "To reduce overfitting :\n",
    "    1. you can train more data\n",
    "    2. you can cross validate the data\n",
    "    3. hyper parameter tuning\n",
    "\n",
    "    Since Overfitting is a scenario where data model work well with training data but less accuracy for test data, \n",
    "    So it is clear the model is overfitted with the training data so that it is not able to give right prediction with \n",
    "    new sets of test data. So we need to adjust the model so that it will be giving better accuracy with new sets of test data."
   ]
  },
  {
   "cell_type": "code",
   "execution_count": null,
   "id": "55a4c296",
   "metadata": {},
   "outputs": [],
   "source": [
    "Q3: Explain underfitting. List scenarios where underfitting can occur in ML."
   ]
  },
  {
   "cell_type": "code",
   "execution_count": null,
   "id": "21d06c34",
   "metadata": {},
   "outputs": [],
   "source": [
    "If the accuracy of data modelling is low in both training and test data then it is called underfitting. \n",
    "In underfitting it gives error in training and test data so unable to give right prediction and does not perform for new data. \n",
    "If the model is too simple and few features then the model will be less flexible with new sets of data for accurate prediction.\n",
    "Suppose you want to to build a linear model with non-linear data then there is high probability of underfitting."
   ]
  },
  {
   "cell_type": "code",
   "execution_count": null,
   "id": "37d84c3d",
   "metadata": {},
   "outputs": [],
   "source": [
    "Q4: Explain the bias-variance tradeoff in machine learning. What is the relationship between bias and\n",
    "variance, and how do they affect model performance?"
   ]
  },
  {
   "cell_type": "code",
   "execution_count": null,
   "id": "fe0bbcd9",
   "metadata": {},
   "outputs": [],
   "source": [
    "If the alogorithm of the model is too simple , then theremight be high bias and low variance. If it is too complex \n",
    "then there might be possibilities of low bias and high variance. both of the situation are not good for accuracy of the model.\n",
    "So there is a need for trade-off between too simple and too complex models which is called bias-variance trade-off. It is \n",
    "between underfitting and overfitting zone."
   ]
  },
  {
   "cell_type": "code",
   "execution_count": null,
   "id": "1b3f5b79",
   "metadata": {},
   "outputs": [],
   "source": [
    "Q5: Discuss some common methods for detecting overfitting and underfitting in machine learning models.\n",
    "How can you determine whether your model is overfitting or underfitting?"
   ]
  },
  {
   "cell_type": "code",
   "execution_count": null,
   "id": "badc5a5b",
   "metadata": {},
   "outputs": [],
   "source": [
    "Overfitting: You need to split the dataset into training and test data. Now you can apply \n",
    "    the model which is developed based on training data into test data and find out the accuracy.\n",
    "    If the accuracy is less in test data then it is clearly overfitting.\n",
    "    \n",
    "Underfitting: For both training and test data the accuracy of the model is less and similar types."
   ]
  },
  {
   "cell_type": "code",
   "execution_count": null,
   "id": "0665a6d6",
   "metadata": {},
   "outputs": [],
   "source": [
    "Q6: Compare and contrast bias and variance in machine learning. What are some examples of high bias\n",
    "and high variance models, and how do they differ in terms of their performance?"
   ]
  },
  {
   "cell_type": "code",
   "execution_count": null,
   "id": "77bbcfeb",
   "metadata": {},
   "outputs": [],
   "source": [
    "bias: due to simple with low features model it can overlook the regularities of data, hence gives error to training and test \n",
    "data\n",
    "variance: it is trainined well but due to high variance it does not capture the variabilities of new data, so it does not \n",
    "work well with different new sets of data.\n",
    "\n",
    "high bias examples are fitting non-linear data with linear model\n",
    "high variance occurs mostly with non-linear models where training works  \n",
    "well but for different kind of test data it does not work well"
   ]
  },
  {
   "cell_type": "code",
   "execution_count": null,
   "id": "eaa4b0d9",
   "metadata": {},
   "outputs": [],
   "source": [
    "Q7: What is regularization in machine learning, and how can it be used to prevent overfitting? Describe\n",
    "some common regularization techniques and how they work."
   ]
  },
  {
   "cell_type": "code",
   "execution_count": null,
   "id": "b84e473c",
   "metadata": {},
   "outputs": [],
   "source": [
    "regularization is a technique by which we can tune the ML model to reduce the errors and prevent overfitting or underfitting.\n",
    "There are main two types of regularization techniques: Ridge and lasso\n",
    "    It adds some parameter value as penality so that it will reduce theerro while evaluating test data so that \n",
    "    it will prevent overfitting."
   ]
  }
 ],
 "metadata": {
  "kernelspec": {
   "display_name": "Python 3 (ipykernel)",
   "language": "python",
   "name": "python3"
  },
  "language_info": {
   "codemirror_mode": {
    "name": "ipython",
    "version": 3
   },
   "file_extension": ".py",
   "mimetype": "text/x-python",
   "name": "python",
   "nbconvert_exporter": "python",
   "pygments_lexer": "ipython3",
   "version": "3.9.13"
  }
 },
 "nbformat": 4,
 "nbformat_minor": 5
}
