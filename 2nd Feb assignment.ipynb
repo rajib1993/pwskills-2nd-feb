{
 "cells": [
  {
   "cell_type": "markdown",
   "id": "1c9b3dd1",
   "metadata": {},
   "source": [
    "Q1. What are the characteristics of the tuples? Is tuple immutable?"
   ]
  },
  {
   "cell_type": "markdown",
   "id": "d611ecfc",
   "metadata": {},
   "source": [
    "The main characteristics of tuple are \n",
    "1. It is a collection of data which is ordered\n",
    "2. Tuple is immutable\n",
    "3. Tuple is indexed , the data elements can be retrieved with index no.\n",
    "3. data elements are contained in () and separated by comma"
   ]
  },
  {
   "cell_type": "markdown",
   "id": "050a7b9d",
   "metadata": {},
   "source": [
    "Tuple is immutable"
   ]
  },
  {
   "cell_type": "markdown",
   "id": "42e9cc92",
   "metadata": {},
   "source": [
    "Q2. What are the two tuple methods in python? Give an example of each method. Give a reason why\n",
    "tuples have only two in-built methods as compared to Lists."
   ]
  },
  {
   "cell_type": "markdown",
   "id": "146b3a2d",
   "metadata": {},
   "source": [
    "The two tuple methods are count() and index()"
   ]
  },
  {
   "cell_type": "code",
   "execution_count": 1,
   "id": "6495dc68",
   "metadata": {},
   "outputs": [],
   "source": [
    "t1 = (1,2,5.5,\"Rajib\" , 7+2j, True)"
   ]
  },
  {
   "cell_type": "code",
   "execution_count": 3,
   "id": "d67f5777",
   "metadata": {},
   "outputs": [
    {
     "data": {
      "text/plain": [
       "2"
      ]
     },
     "execution_count": 3,
     "metadata": {},
     "output_type": "execute_result"
    }
   ],
   "source": [
    "t1.count(1)"
   ]
  },
  {
   "cell_type": "code",
   "execution_count": null,
   "id": "aeb0dae3",
   "metadata": {},
   "outputs": [],
   "source": [
    "count() method reurns the number of times the argument present in the tuple.Here count() method returns 2 as the data element True is also internally stored as 1 ,"
   ]
  },
  {
   "cell_type": "code",
   "execution_count": 4,
   "id": "025a395f",
   "metadata": {},
   "outputs": [
    {
     "data": {
      "text/plain": [
       "2"
      ]
     },
     "execution_count": 4,
     "metadata": {},
     "output_type": "execute_result"
    }
   ],
   "source": [
    "t1.index(5.5)"
   ]
  },
  {
   "cell_type": "markdown",
   "id": "f527f2da",
   "metadata": {},
   "source": [
    "index() method returns the position of the the argument in the tuple. Here starting from 0 position 5.5 is at position 2, so it returns the value 2."
   ]
  },
  {
   "cell_type": "markdown",
   "id": "f4a86c32",
   "metadata": {},
   "source": [
    "Q3. Which collection datatypes in python do not allow duplicate items? Write a code using a set to remove\n",
    "duplicates from the given list.\n",
    "List = [1, 1, 1, 2, 1, 3, 1, 4, 2, 1, 2, 2, 2, 3, 2, 4, 3, 1, 3, 2, 3, 3, 3, 4, 4, 1, 4, 2, 4, 3, 4, 4]"
   ]
  },
  {
   "cell_type": "code",
   "execution_count": null,
   "id": "db8cdca0",
   "metadata": {},
   "outputs": [],
   "source": [
    "set is the collection datatype in pyhton which does not allow duplicate items."
   ]
  },
  {
   "cell_type": "code",
   "execution_count": 5,
   "id": "edced63e",
   "metadata": {},
   "outputs": [],
   "source": [
    "List = [1, 1, 1, 2, 1, 3, 1, 4, 2, 1, 2, 2, 2, 3, 2, 4, 3, 1, 3, 2, 3, 3, 3, 4, 4, 1, 4, 2, 4, 3, 4, 4]"
   ]
  },
  {
   "cell_type": "code",
   "execution_count": 6,
   "id": "05b49ce7",
   "metadata": {},
   "outputs": [],
   "source": [
    "s1= set(List)"
   ]
  },
  {
   "cell_type": "code",
   "execution_count": 7,
   "id": "684fd4ba",
   "metadata": {},
   "outputs": [
    {
     "data": {
      "text/plain": [
       "{1, 2, 3, 4}"
      ]
     },
     "execution_count": 7,
     "metadata": {},
     "output_type": "execute_result"
    }
   ],
   "source": [
    "s1"
   ]
  },
  {
   "cell_type": "markdown",
   "id": "99aa4ebf",
   "metadata": {},
   "source": [
    "Q4. Explain the difference between the union() and update() methods for a set. Give an example of\n",
    "each method."
   ]
  },
  {
   "cell_type": "markdown",
   "id": "487d7b54",
   "metadata": {},
   "source": [
    "Union() method returns the union of two sets whereas update() method updates the set on which it is calleds. For union() there will be no change in data for the set on which it is called, but for update the data elements of the set on which it is called is updated."
   ]
  },
  {
   "cell_type": "code",
   "execution_count": 8,
   "id": "8d6988a0",
   "metadata": {},
   "outputs": [
    {
     "data": {
      "text/plain": [
       "{1, 2, 3, 4, 7, 9, 10, 15}"
      ]
     },
     "execution_count": 8,
     "metadata": {},
     "output_type": "execute_result"
    }
   ],
   "source": [
    "s1 = {1,3,7,9,15}\n",
    "s2 = {2,4,7,10,15}\n",
    "s1.union(s2)"
   ]
  },
  {
   "cell_type": "code",
   "execution_count": 9,
   "id": "0451dd75",
   "metadata": {},
   "outputs": [
    {
     "data": {
      "text/plain": [
       "{1, 3, 7, 9, 15}"
      ]
     },
     "execution_count": 9,
     "metadata": {},
     "output_type": "execute_result"
    }
   ],
   "source": [
    "s1"
   ]
  },
  {
   "cell_type": "code",
   "execution_count": 10,
   "id": "202a6452",
   "metadata": {},
   "outputs": [
    {
     "data": {
      "text/plain": [
       "{2, 4, 7, 10, 15}"
      ]
     },
     "execution_count": 10,
     "metadata": {},
     "output_type": "execute_result"
    }
   ],
   "source": [
    "s2"
   ]
  },
  {
   "cell_type": "code",
   "execution_count": 11,
   "id": "8e25e221",
   "metadata": {},
   "outputs": [],
   "source": [
    "s1.update(s2)"
   ]
  },
  {
   "cell_type": "code",
   "execution_count": 12,
   "id": "4d3fab73",
   "metadata": {},
   "outputs": [
    {
     "data": {
      "text/plain": [
       "{1, 2, 3, 4, 7, 9, 10, 15}"
      ]
     },
     "execution_count": 12,
     "metadata": {},
     "output_type": "execute_result"
    }
   ],
   "source": [
    "s1"
   ]
  },
  {
   "cell_type": "code",
   "execution_count": 13,
   "id": "c48b3074",
   "metadata": {},
   "outputs": [
    {
     "data": {
      "text/plain": [
       "{2, 4, 7, 10, 15}"
      ]
     },
     "execution_count": 13,
     "metadata": {},
     "output_type": "execute_result"
    }
   ],
   "source": [
    "s2"
   ]
  },
  {
   "cell_type": "markdown",
   "id": "af03bcab",
   "metadata": {},
   "source": [
    "Here it is observed that s1 data elements are changed after update()"
   ]
  },
  {
   "cell_type": "code",
   "execution_count": null,
   "id": "57d55e8a",
   "metadata": {},
   "outputs": [],
   "source": [
    "Q5. What is a dictionary? Give an example. Also, state whether a dictionary is ordered or unordered."
   ]
  },
  {
   "cell_type": "markdown",
   "id": "24ad04dd",
   "metadata": {},
   "source": [
    "Dictionary is the collection datatype where data is stored as key-value pair. It is not ordered. It is mutable. "
   ]
  },
  {
   "cell_type": "code",
   "execution_count": 14,
   "id": "c6bf8529",
   "metadata": {},
   "outputs": [],
   "source": [
    "d1 = {\"id\": 123 , \"name\" : \"Rajib Sarkar\" , \"Age\": 34 , \"Weight\": 72.5 , \"Married\" : True}"
   ]
  },
  {
   "cell_type": "code",
   "execution_count": 15,
   "id": "75a04dce",
   "metadata": {},
   "outputs": [
    {
     "data": {
      "text/plain": [
       "{'id': 123, 'name': 'Rajib Sarkar', 'Age': 34, 'Weight': 72.5, 'Married': True}"
      ]
     },
     "execution_count": 15,
     "metadata": {},
     "output_type": "execute_result"
    }
   ],
   "source": [
    "d1"
   ]
  },
  {
   "cell_type": "markdown",
   "id": "9412962e",
   "metadata": {},
   "source": [
    "Q6. Can we create a nested dictionary? If so, please give an example by creating a simple one-level\n",
    "nested dictionary."
   ]
  },
  {
   "cell_type": "markdown",
   "id": "8c4e08ed",
   "metadata": {},
   "source": [
    "Yes we can create a nested dictionary. "
   ]
  },
  {
   "cell_type": "code",
   "execution_count": 16,
   "id": "7bf1ec78",
   "metadata": {},
   "outputs": [],
   "source": [
    "d1 = { \"d2\" : {\"id\":123 , \"Name\": \"Rajib\" }}"
   ]
  },
  {
   "cell_type": "code",
   "execution_count": 17,
   "id": "84844e3f",
   "metadata": {},
   "outputs": [
    {
     "data": {
      "text/plain": [
       "{'d2': {'id': 123, 'Name': 'Rajib'}}"
      ]
     },
     "execution_count": 17,
     "metadata": {},
     "output_type": "execute_result"
    }
   ],
   "source": [
    "d1"
   ]
  },
  {
   "cell_type": "code",
   "execution_count": null,
   "id": "3211b80b",
   "metadata": {},
   "outputs": [],
   "source": [
    "Using setdefault() method, create key named topics in the given dictionary and also add the value of\n",
    "the key as this list ['Python', 'Machine Learning’, 'Deep Learning']\n",
    "\n",
    "dict1 ={'language' : 'Python', 'course': 'Data Science Masters'}"
   ]
  },
  {
   "cell_type": "code",
   "execution_count": 20,
   "id": "246ef097",
   "metadata": {},
   "outputs": [
    {
     "data": {
      "text/plain": [
       "['Python', 'Machine Learning', 'Deep Learning']"
      ]
     },
     "execution_count": 20,
     "metadata": {},
     "output_type": "execute_result"
    }
   ],
   "source": [
    "dict1 ={'language' : 'Python', 'course': 'Data Science Masters'}\n",
    "dict1.setdefault(\"topics\" ,[\"Python\", \"Machine Learning\", \"Deep Learning\"])"
   ]
  },
  {
   "cell_type": "code",
   "execution_count": 21,
   "id": "5297b617",
   "metadata": {},
   "outputs": [
    {
     "data": {
      "text/plain": [
       "{'language': 'Python',\n",
       " 'course': 'Data Science Masters',\n",
       " 'topics': ['Python', 'Machine Learning', 'Deep Learning']}"
      ]
     },
     "execution_count": 21,
     "metadata": {},
     "output_type": "execute_result"
    }
   ],
   "source": [
    "dict1"
   ]
  },
  {
   "cell_type": "markdown",
   "id": "cb1fae7f",
   "metadata": {},
   "source": [
    "Q8. What are the three view objects in dictionaries? Use the three in-built methods in python to display\n",
    "these three view objects for the given dictionary.\n",
    "\n",
    "\n",
    "dict1 = {'Sport': 'Cricket' , 'Teams': ['India', 'Australia', 'England', 'South Africa', 'Sri Lanka', 'New Zealand']}"
   ]
  },
  {
   "cell_type": "markdown",
   "id": "8cd235f8",
   "metadata": {},
   "source": [
    "Three view objects are keys(), values(), items()"
   ]
  },
  {
   "cell_type": "code",
   "execution_count": 22,
   "id": "5d7ae8d3",
   "metadata": {},
   "outputs": [
    {
     "data": {
      "text/plain": [
       "dict_keys(['Sport', 'Teams'])"
      ]
     },
     "execution_count": 22,
     "metadata": {},
     "output_type": "execute_result"
    }
   ],
   "source": [
    "dict1 = {'Sport': 'Cricket' , 'Teams': ['India', 'Australia', 'England', 'South Africa', 'Sri Lanka', 'New Zealand']}\n",
    "dict1.keys()"
   ]
  },
  {
   "cell_type": "code",
   "execution_count": 23,
   "id": "bea2c920",
   "metadata": {},
   "outputs": [
    {
     "data": {
      "text/plain": [
       "dict_values(['Cricket', ['India', 'Australia', 'England', 'South Africa', 'Sri Lanka', 'New Zealand']])"
      ]
     },
     "execution_count": 23,
     "metadata": {},
     "output_type": "execute_result"
    }
   ],
   "source": [
    "dict1.values()"
   ]
  },
  {
   "cell_type": "code",
   "execution_count": 24,
   "id": "03c7eafe",
   "metadata": {},
   "outputs": [
    {
     "data": {
      "text/plain": [
       "dict_items([('Sport', 'Cricket'), ('Teams', ['India', 'Australia', 'England', 'South Africa', 'Sri Lanka', 'New Zealand'])])"
      ]
     },
     "execution_count": 24,
     "metadata": {},
     "output_type": "execute_result"
    }
   ],
   "source": [
    "dict1.items()"
   ]
  },
  {
   "cell_type": "code",
   "execution_count": null,
   "id": "8c8a83bd",
   "metadata": {},
   "outputs": [],
   "source": []
  },
  {
   "cell_type": "code",
   "execution_count": null,
   "id": "89ea3865",
   "metadata": {},
   "outputs": [],
   "source": []
  }
 ],
 "metadata": {
  "kernelspec": {
   "display_name": "Python 3 (ipykernel)",
   "language": "python",
   "name": "python3"
  },
  "language_info": {
   "codemirror_mode": {
    "name": "ipython",
    "version": 3
   },
   "file_extension": ".py",
   "mimetype": "text/x-python",
   "name": "python",
   "nbconvert_exporter": "python",
   "pygments_lexer": "ipython3",
   "version": "3.9.13"
  }
 },
 "nbformat": 4,
 "nbformat_minor": 5
}
