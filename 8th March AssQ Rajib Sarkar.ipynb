{
 "cells": [
  {
   "cell_type": "code",
   "execution_count": 1,
   "id": "5401e958",
   "metadata": {},
   "outputs": [],
   "source": [
    "Q1. What is the Probability density function?"
   ]
  },
  {
   "cell_type": "code",
   "execution_count": null,
   "id": "b4fe4257",
   "metadata": {},
   "outputs": [],
   "source": [
    "Probability distribution function (pdf) represents the distribution of density of continuous random variable."
   ]
  },
  {
   "cell_type": "code",
   "execution_count": 4,
   "id": "40d03608",
   "metadata": {},
   "outputs": [],
   "source": [
    "Q2. What are the types of Probability distribution?"
   ]
  },
  {
   "cell_type": "code",
   "execution_count": 6,
   "id": "1da29a92",
   "metadata": {},
   "outputs": [],
   "source": [
    "few types are - Bionomial, bernoulie, poisson, "
   ]
  },
  {
   "cell_type": "code",
   "execution_count": null,
   "id": "f4b0775a",
   "metadata": {},
   "outputs": [],
   "source": [
    "Q3. Write a Python function to calculate the probability density function of a normal distribution with\n",
    "given mean and standard deviation at a given point."
   ]
  },
  {
   "cell_type": "code",
   "execution_count": 18,
   "id": "fb96f007",
   "metadata": {},
   "outputs": [],
   "source": [
    "def normal_dist(x , mean , sd):\n",
    "    prob_density = (np.pi*sd) * np.exp(-0.5*((x-mean)/sd)**2)\n",
    "    return prob_density\n",
    "pdf = normal_dist(data, np.mean(data), np.std(data))"
   ]
  },
  {
   "cell_type": "code",
   "execution_count": null,
   "id": "37e00587",
   "metadata": {},
   "outputs": [],
   "source": [
    "Q4. What are the properties of Binomial distribution? Give two examples of events where binomial\n",
    "distribution can be applied."
   ]
  },
  {
   "cell_type": "code",
   "execution_count": null,
   "id": "03ba9c9c",
   "metadata": {},
   "outputs": [],
   "source": [
    "1. outcome will be binary and discrete\n",
    "2. outcome can be from a series of repeated events\n",
    "\n",
    "example:    \n",
    "    1. tossing a coin for 10 times\n",
    "    2. getting a value less than 2 or not from throwing a dice for repeated number of times"
   ]
  },
  {
   "cell_type": "code",
   "execution_count": null,
   "id": "eb600655",
   "metadata": {},
   "outputs": [],
   "source": [
    "Q5. Generate a random sample of size 1000 from a binomial distribution with probability of success 0.4\n",
    "and plot a histogram of the results using matplotlib."
   ]
  },
  {
   "cell_type": "code",
   "execution_count": 20,
   "id": "baf94922",
   "metadata": {},
   "outputs": [
    {
     "data": {
      "image/png": "[encoded data removed]",
      "text/plain": [
       "<Figure size 640x480 with 1 Axes>"
      ]
     },
     "metadata": {},
     "output_type": "display_data"
    }
   ],
   "source": [
    "from scipy.stats import binom\n",
    "n= 1000\n",
    "p = 0.4\n",
    "r_values = list(range(n + 1))\n",
    "mean, var = binom.stats(r_values, p)\n",
    "dist = [binom.pmf(r, n, p) for r in r_values ]\n",
    "plt.bar(r_values, dist)\n",
    "plt.show()"
   ]
  },
  {
   "cell_type": "code",
   "execution_count": null,
   "id": "f2a48e88",
   "metadata": {},
   "outputs": [],
   "source": [
    "Q6. Write a Python function to calculate the cumulative distribution function of a Poisson distribution\n",
    "with given mean at a given point."
   ]
  },
  {
   "cell_type": "code",
   "execution_count": null,
   "id": "edf79f0b",
   "metadata": {},
   "outputs": [],
   "source": [
    "import numpy as np\n",
    "import matplotlib.pyplot as plt\n",
    "from scipy.stats import poisson\n",
    "pmf = poisson.cdf(data, mu= mean)\n",
    "pmf = np.round(pmf, 5)\n",
    "\n",
    "print(pmf)"
   ]
  },
  {
   "cell_type": "code",
   "execution_count": null,
   "id": "127304b5",
   "metadata": {},
   "outputs": [],
   "source": [
    "Q7. How Binomial distribution different from Poisson distribution?"
   ]
  },
  {
   "cell_type": "code",
   "execution_count": null,
   "id": "a35304f8",
   "metadata": {},
   "outputs": [],
   "source": [
    "Binomial distribution gives the distribution of binary data ..like getting success out of n trials. \n",
    "Here mean and variance are different.\n",
    "\n",
    "poisson distribution - there is no limit of possible outcomes with given period of time interval\n",
    "Here mean and variance are same"
   ]
  },
  {
   "cell_type": "code",
   "execution_count": null,
   "id": "e1ab864c",
   "metadata": {},
   "outputs": [],
   "source": [
    "Q8. Generate a random sample of size 1000 from a Poisson distribution with mean 5 and calculate the\n",
    "sample mean and variance."
   ]
  },
  {
   "cell_type": "code",
   "execution_count": null,
   "id": "759670ad",
   "metadata": {},
   "outputs": [],
   "source": [
    "import numpy as np\n",
    "s = np.random.poisson(5, 1000)\n",
    "print(np.mean(s))\n",
    "print(np.var(s))"
   ]
  },
  {
   "cell_type": "code",
   "execution_count": null,
   "id": "1337f837",
   "metadata": {},
   "outputs": [],
   "source": [
    "Q9. How mean and variance are related in Binomial distribution and Poisson distribution?"
   ]
  },
  {
   "cell_type": "code",
   "execution_count": null,
   "id": "277e0b6f",
   "metadata": {},
   "outputs": [],
   "source": [
    "The mean of the binomial distribution is np, and the variance of the binomial distribution is np (1 − p). \n",
    "\n",
    "The mean and the variance of the Poisson distribution are the same, which is equal to the average number of \n",
    "successes that occur in the given interval of time.\n",
    "mean = ( expected number of events to occur at every time interval)* time interval\n",
    "variance is the same as mean for poisson distribution"
   ]
  },
  {
   "cell_type": "code",
   "execution_count": null,
   "id": "056adbdf",
   "metadata": {},
   "outputs": [],
   "source": [
    "Q10. In normal distribution with respect to mean position, where does the least frequent data appear?"
   ]
  },
  {
   "cell_type": "code",
   "execution_count": null,
   "id": "38ac0bcb",
   "metadata": {},
   "outputs": [],
   "source": [
    "away from the mean both sides"
   ]
  },
  {
   "cell_type": "code",
   "execution_count": null,
   "id": "97e5b06f",
   "metadata": {},
   "outputs": [],
   "source": []
  },
  {
   "cell_type": "code",
   "execution_count": null,
   "id": "847394ea",
   "metadata": {},
   "outputs": [],
   "source": []
  },
  {
   "cell_type": "code",
   "execution_count": null,
   "id": "4c7a748a",
   "metadata": {},
   "outputs": [],
   "source": []
  }
 ],
 "metadata": {
  "kernelspec": {
   "display_name": "Python 3 (ipykernel)",
   "language": "python",
   "name": "python3"
  },
  "language_info": {
   "codemirror_mode": {
    "name": "ipython",
    "version": 3
   },
   "file_extension": ".py",
   "mimetype": "text/x-python",
   "name": "python",
   "nbconvert_exporter": "python",
   "pygments_lexer": "ipython3",
   "version": "3.9.13"
  }
 },
 "nbformat": 4,
 "nbformat_minor": 5
}
